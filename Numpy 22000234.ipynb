{
 "cells": [
  {
   "cell_type": "markdown",
   "metadata": {
    "id": "scdoPN4eo1x2"
   },
   "source": [
    "9th Jan 2024"
   ]
  },
  {
   "cell_type": "markdown",
   "metadata": {
    "id": "OPdvdNdtogCt"
   },
   "source": [
    "1. What is 7 to the power 4"
   ]
  },
  {
   "cell_type": "code",
   "execution_count": 8,
   "metadata": {
    "colab": {
     "base_uri": "https://localhost:8080/"
    },
    "id": "GAanDvS5ofgc",
    "outputId": "e2af6c69-e18a-4289-e016-d5602bba8ecf"
   },
   "outputs": [
    {
     "name": "stdout",
     "output_type": "stream",
     "text": [
      "2401\n"
     ]
    }
   ],
   "source": [
    "a=7**4\n",
    "print(a)"
   ]
  },
  {
   "cell_type": "markdown",
   "metadata": {
    "id": "oHV5-uVEpJH2"
   },
   "source": [
    "2. Split the string:\n",
    "s=\"hi there sam!\"\n",
    "into list"
   ]
  },
  {
   "cell_type": "code",
   "execution_count": 9,
   "metadata": {
    "colab": {
     "base_uri": "https://localhost:8080/",
     "height": 0
    },
    "id": "nmBmqiZOpUA-",
    "outputId": "812aae84-71ed-4b15-fb5f-22dc9582b7f4"
   },
   "outputs": [
    {
     "data": {
      "text/plain": [
       "['hi', 'there', 'sam!']"
      ]
     },
     "execution_count": 9,
     "metadata": {},
     "output_type": "execute_result"
    }
   ],
   "source": [
    "s=\"hi there sam!\"\n",
    "s.split()\n"
   ]
  },
  {
   "cell_type": "markdown",
   "metadata": {
    "id": "0bQTcX6DpkHM"
   },
   "source": [
    "3. Given the variables:\n",
    "planet=earth\n",
    "diameter=12742\n",
    "use .format() to print the following string:\n",
    "The diameter of Earth is 12742 kilometers."
   ]
  },
  {
   "cell_type": "code",
   "execution_count": 10,
   "metadata": {
    "colab": {
     "base_uri": "https://localhost:8080/",
     "height": 0
    },
    "id": "cc3odBGcqbrU",
    "outputId": "74f9a081-1189-40ec-b287-ce8790a42ec7"
   },
   "outputs": [
    {
     "name": "stdout",
     "output_type": "stream",
     "text": [
      "The diameter of earth is 12742 kilometers.\n"
     ]
    }
   ],
   "source": [
    "planet='earth'\n",
    "diameter=12742\n",
    "print(f'The diameter of {planet} is {diameter} kilometers.')"
   ]
  },
  {
   "cell_type": "markdown",
   "metadata": {
    "id": "q7gqAv78qgsT"
   },
   "source": [
    "4. given the nested list,use indexing to grab the word \"hello\".\n",
    "lst=[1,2,[3,4],[5,[100,200,[\"hello\"]],23,11],1,7]"
   ]
  },
  {
   "cell_type": "code",
   "execution_count": 11,
   "metadata": {
    "id": "_pB_4pEkrtSG"
   },
   "outputs": [
    {
     "data": {
      "text/plain": [
       "'hello'"
      ]
     },
     "execution_count": 11,
     "metadata": {},
     "output_type": "execute_result"
    }
   ],
   "source": [
    "lst=[1,2,[3,4],[5,[100,200,[\"hello\"]],23,11],1,7]\n",
    "lst[3][1][2][0]"
   ]
  },
  {
   "cell_type": "markdown",
   "metadata": {
    "id": "8hgZpy4Ps3zr"
   },
   "source": [
    "5. given the nested dictionary grab the word \"hello\":\n",
    "d={'k1':[1,2,3,{'tricky':['oh','man','inception',{'target':[1,2,3,'hello']}]}]}"
   ]
  },
  {
   "cell_type": "code",
   "execution_count": 12,
   "metadata": {
    "colab": {
     "base_uri": "https://localhost:8080/",
     "height": 36
    },
    "id": "LaFq6tzRtgSr",
    "outputId": "90cdac74-07b0-4628-9e5b-e642d24f1095"
   },
   "outputs": [
    {
     "data": {
      "text/plain": [
       "'hello'"
      ]
     },
     "execution_count": 12,
     "metadata": {},
     "output_type": "execute_result"
    }
   ],
   "source": [
    "d={'k1':[1,2,3,{'tricky':['oh','man','inception',{'target':[1,2,3,'hello']}]}]}\n",
    "d['k1'][3]['tricky'][3]['target'][3]"
   ]
  },
  {
   "cell_type": "markdown",
   "metadata": {
    "id": "EYc0U_Jdtmm3"
   },
   "source": [
    "6. What is the main difference between a tuple and a list ?\n",
    "ans: -Tuples are created using parentheses () and may contain a mix of data   \n",
    "      types.It is not changable.\n",
    "\n",
    "     -Lists are created using square brackets [] and can also contain a mix of data types.It is changable.\n",
    "\n",
    "\n"
   ]
  },
  {
   "cell_type": "markdown",
   "metadata": {
    "id": "8uAkJbgcvroK"
   },
   "source": [
    "7. Create a function that grabs the email the email website domain from a string in the form:\n",
    "\n",
    "user@domain.com\n",
    "so for example passing \"user@domain.com\" would return domain.com"
   ]
  },
  {
   "cell_type": "code",
   "execution_count": 13,
   "metadata": {
    "colab": {
     "base_uri": "https://localhost:8080/",
     "height": 0
    },
    "id": "kkN4JsGbx-Ta",
    "outputId": "d636986c-ddbe-4237-a4fb-0b5e5fb35948"
   },
   "outputs": [
    {
     "name": "stdout",
     "output_type": "stream",
     "text": [
      "email :hvhj\n",
      "domain : hvhj\n"
     ]
    }
   ],
   "source": [
    "def extract_email_domain(email):\n",
    "    return email.split('@')[-1]\n",
    "\n",
    "\n",
    "a= input(\"email :\")\n",
    "domain = extract_email_domain(a)\n",
    "print(\"domain :\", domain)"
   ]
  },
  {
   "cell_type": "markdown",
   "metadata": {
    "id": "tjcZdLpT0ZlC"
   },
   "source": [
    "8. Function to find 'dog' in a string"
   ]
  },
  {
   "cell_type": "code",
   "execution_count": 14,
   "metadata": {
    "colab": {
     "base_uri": "https://localhost:8080/",
     "height": 0
    },
    "id": "ozokCdKiz8TX",
    "outputId": "ee67d5bf-cbc1-4461-db58-b5636eeabe42"
   },
   "outputs": [
    {
     "name": "stdout",
     "output_type": "stream",
     "text": [
      "True\n"
     ]
    }
   ],
   "source": [
    "def findDog(st):\n",
    "    return 'dog' in st.split()\n",
    "\n",
    "strg = findDog('Is there a dog here?')\n",
    "print(strg)"
   ]
  },
  {
   "cell_type": "markdown",
   "metadata": {
    "id": "a07C6HSg38t9"
   },
   "source": [
    "9. lambda and filter() function to filter out words that dont start with the letter s"
   ]
  },
  {
   "cell_type": "code",
   "execution_count": 15,
   "metadata": {
    "colab": {
     "base_uri": "https://localhost:8080/",
     "height": 0
    },
    "id": "-3bv22X74NyA",
    "outputId": "9cc490b1-2857-4895-f8a8-7f99620375d2"
   },
   "outputs": [
    {
     "name": "stdout",
     "output_type": "stream",
     "text": [
      "['soup', 'salad', 'sand']\n"
     ]
    }
   ],
   "source": [
    "a = ['soup', 'dog', 'cat', 'salad', 'bat', 'sand', 'luke', 'emia']\n",
    "\n",
    "alist = list(filter(lambda g: g.startswith('s'), a))\n",
    "\n",
    "print(alist)\n"
   ]
  },
  {
   "cell_type": "markdown",
   "metadata": {
    "id": "-dtuhpQJ5J7v"
   },
   "source": [
    "10. you are driving too fast,and a police officer stop you. write a function to return one of 3 possible results: \"no ticket\", \"small ticket\" , \"big ticket\". If yout speed is 60 or less, the result will be \"no ticket,if your speed is between 61 to 80 the result will be \"small ticket\" and if the speed is 81 or more the result will be \"big ticket\" unless if its your birthday(encoded as boolean value in the parameters of the function) on your birthday your speed can be 5 higher in all cases."
   ]
  },
  {
   "cell_type": "code",
   "execution_count": 16,
   "metadata": {
    "id": "Pfos9PA39-Jv"
   },
   "outputs": [
    {
     "name": "stdout",
     "output_type": "stream",
     "text": [
      "Enter your speed: 8\n",
      "Is it your birthday? (yes/no): yes\n",
      "no ticket\n"
     ]
    }
   ],
   "source": [
    "def ticket(speed):\n",
    "    if speed <= 60:\n",
    "        return \"No ticket\"\n",
    "    elif 61 <= speed <= 80:\n",
    "        return \"Small ticket\"\n",
    "    else:\n",
    "        return \"Big ticket\"\n",
    "\n",
    "speed= input(\"Enter your speed: \")\n",
    "birthday= input(\"Is it your birthday? (yes/no): \")\n",
    "\n",
    "speed = int(speed)\n",
    "result = ticket(speed)\n",
    "\n",
    "if birthday==\"no\": \n",
    "  print(result)\n",
    "else:\n",
    "  print(\"no ticket\")\n"
   ]
  },
  {
   "cell_type": "markdown",
   "metadata": {},
   "source": []
  },
  {
   "cell_type": "markdown",
   "metadata": {},
   "source": []
  },
  {
   "cell_type": "markdown",
   "metadata": {},
   "source": [
    "1. Write a OOP in python to input empid, name, basic salary, no. of experience in yrs.\n",
    "Calculate hra(35% of basic), da (58% of basic) and pf (9.5% of basic).\n",
    "Also calculate bonus based on experience in years.\n",
    "If experience in years is >= 30, bonus must be 59% of basic,\n",
    "If experience in years is >=23, bonus must be 51% of basic,\n",
    "If experience in years is >=15, bonus must be 45% of basic,\n",
    "If experience in years is >=7, bonus must be 33% of basic,\n",
    "If experience in years is <7, bonus must be 16% of basic\n",
    "Calculate netsalary as basic+da+hra-pf+bonus.\n",
    "Create a class, constructor to create instance variables, getter-setter for each variable,\n",
    "calculative functions for operative variables. A class methods/function should not contain"
   ]
  },
  {
   "cell_type": "code",
   "execution_count": 17,
   "metadata": {},
   "outputs": [
    {
     "name": "stdout",
     "output_type": "stream",
     "text": [
      "Enter Your NameHusain\n",
      "Enter Your Basic Salary10000000\n",
      "Enter Your Experience Year10\n",
      "hra is  3500000.0 da is 5800000.0 pf is 950000.0\n",
      "Net salary is 20250000.0\n"
     ]
    }
   ],
   "source": [
    "class employee:     \n",
    "    def __init__(self) :\n",
    "        self.userName = input(\"Enter Your Name\")\n",
    "        self.salary = int(input(\"Enter Your Basic Salary\"))\n",
    "        self.experience = input(\"Enter Your Experience Year\")\n",
    "        self.hra = 0\n",
    "        self.da = 0\n",
    "        self.pf = 0\n",
    "        self.bonus = 0\n",
    "\n",
    "    def calculate(self):\n",
    "        self.hra = 0.35 * self.salary\n",
    "        self.da = 0.58 * self.salary\n",
    "        self.pf = 0.095 * self.salary\n",
    "        print(\"hra is \" ,self.hra , \"da is\", self.da , \"pf is\" ,self.pf )\n",
    "\n",
    "    def bonusSalary(self):\n",
    "\n",
    "        if self.experience >= 30:\n",
    "             self.bonus = .59 * self.salary \n",
    "        elif self.experience >= 23:\n",
    "             self.bonus = .51 * self.salary \n",
    "        elif self.experience >= 15:\n",
    "             self.bonus = .45 * self.salary     \n",
    "        elif self.experience >= 7:\n",
    "             self.bonus = .33 * self.salary   \n",
    "        elif self.experience < 7:\n",
    "             self.bonus = .16 * self.salary \n",
    "\n",
    "    def netSalary(self):\n",
    "        self.calculate()\n",
    "        self.bonusSalary\n",
    "        self.net = self.bonus + self.salary + self.hra +  self.da + self.pf \n",
    "        print(\"Net salary is\" , self.net)\n",
    "\n",
    "\n",
    "\n",
    "husain=employee()\n",
    "husain.netSalary()"
   ]
  },
  {
   "cell_type": "code",
   "execution_count": 18,
   "metadata": {},
   "outputs": [
    {
     "name": "stdout",
     "output_type": "stream",
     "text": [
      "Enter length of list5\n",
      "enter your no.1\n",
      "enter your no.2\n",
      "enter your no.3\n",
      "enter your no.4\n",
      "enter your no.4\n",
      "[1, 2, 3, 4, 4]\n",
      "(5, 6)\n"
     ]
    }
   ],
   "source": [
    "\n",
    "n = int(input(\"Enter length of list\")) \n",
    "lst1 = []\n",
    "newList = []\n",
    "\n",
    "def lstCalc() :\n",
    "    for i in range(0,n):\n",
    "        user = int(input(\"enter your no.\"))\n",
    "        lst1.append(user)\n",
    "    print(lst1)\n",
    "\n",
    "def lst1Calc():\n",
    "    lstCalc()\n",
    "    for y in range (0 , n//2):\n",
    "        k = lst1[y]+lst1[n-1-y]\n",
    "        newList.append(k)\n",
    "    sset = set(newList)\n",
    "    tupp = tuple(sset)\n",
    "    print(tupp)\n",
    "            \n",
    "lst1Calc()   \n",
    "            "
   ]
  },
  {
   "cell_type": "code",
   "execution_count": 19,
   "metadata": {},
   "outputs": [
    {
     "name": "stdout",
     "output_type": "stream",
     "text": [
      "Enter length of list2\n"
     ]
    },
    {
     "ename": "TypeError",
     "evalue": "lstEmp.lst1Calc() takes 0 positional arguments but 1 was given",
     "output_type": "error",
     "traceback": [
      "\u001b[0;31m---------------------------------------------------------------------------\u001b[0m",
      "\u001b[0;31mTypeError\u001b[0m                                 Traceback (most recent call last)",
      "Cell \u001b[0;32mIn[19], line 22\u001b[0m\n\u001b[1;32m     20\u001b[0m         \u001b[38;5;28mprint\u001b[39m(tupp)\n\u001b[1;32m     21\u001b[0m lisst \u001b[38;5;241m=\u001b[39m lstEmp()\n\u001b[0;32m---> 22\u001b[0m lisst\u001b[38;5;241m.\u001b[39mlst1Calc()\n",
      "\u001b[0;31mTypeError\u001b[0m: lstEmp.lst1Calc() takes 0 positional arguments but 1 was given"
     ]
    }
   ],
   "source": [
    "\n",
    "class lstEmp():\n",
    "\n",
    "    n = int(input(\"Enter length of list\")) \n",
    "    lst1 = []\n",
    "    newList = []\n",
    "\n",
    "    def lstCalc() :\n",
    "        for i in range(0,n):\n",
    "            user = int(input(\"enter your no.\"))\n",
    "            lst1.append(user)\n",
    "        print(lst1)\n",
    "\n",
    "    def lst1Calc():\n",
    "        lstCalc()\n",
    "        for y in range (0 , n//2):\n",
    "            k = lst1[y]+lst1[n-1-y]\n",
    "            newList.append(k)\n",
    "        sset = set(newList)\n",
    "        tupp = tuple(sset)\n",
    "        print(tupp)\n",
    "lisst = lstEmp()\n",
    "lisst.lst1Calc()   \n",
    "            "
   ]
  },
  {
   "cell_type": "markdown",
   "metadata": {},
   "source": [
    "Write an OOP program to perform addition, base and power, concatenation, max, min of two\n",
    "numbers stored in two different objects created from same class.\n",
    "n1=MyNumber(2)\n",
    "n2=MyNumber()\n",
    "n2.setNum(5)\n",
    "n3=n1.add(n2)\n",
    "print(\"Addition is \",n3.getNum()) #7\n",
    "n3=n1.raisedTo(n2)\n",
    "print(n1.getNum(),\" raised to \",n2.getNum(),\" is \",n3.getNum()) #32\n",
    "n3=n1.concat(n2)\n",
    "print(\"Concat answer is \",n3.getNum()) #25\n",
    "n3=n1.max(n2)\n",
    "print(\"Max is \",n3.getNum())"
   ]
  },
  {
   "cell_type": "code",
   "execution_count": 20,
   "metadata": {},
   "outputs": [
    {
     "name": "stdout",
     "output_type": "stream",
     "text": [
      "Addition is  7\n",
      "Power is  25\n",
      "Concatenation is  52\n",
      "Min  is  2\n",
      "Max is  5\n"
     ]
    }
   ],
   "source": [
    "class Numbers:\n",
    "    def __init__(self , num = 0):\n",
    "        self.num = num \n",
    "    def setNum(self,num):\n",
    "        self.num = num \n",
    "    def getNum(self):\n",
    "        return self.num \n",
    "    def add(self, n2 ):\n",
    "        n3 =Numbers(self.num + n2.num)\n",
    "        return n3\n",
    "    def power(self , n2):\n",
    "        n3 =Numbers(self.num**n2.num)\n",
    "        return n3\n",
    "    def concat(self , n2):\n",
    "        n3 =Numbers(str(self.num)+str(n2.num))\n",
    "        return n3\n",
    "    def min1(self,n2):\n",
    "        n3 =Numbers(min(self.num , n2.num))\n",
    "        return n3\n",
    "    def max1(self,n2):\n",
    "        n3 =Numbers(max(self.num , n2.num))\n",
    "        return n3\n",
    "        \n",
    "\n",
    "\n",
    "n1 = Numbers()\n",
    "n1.setNum(5)\n",
    "##print(n1.getNum())\n",
    "n2 = Numbers()\n",
    "n2.setNum(2)\n",
    "n3 = n1.add(n2)\n",
    "print(\"Addition is \",n3.getNum())\n",
    "n3 = n1.power(n2)\n",
    "print(\"Power is \",n3.getNum())\n",
    "n3 = n1.concat(n2)\n",
    "print(\"Concatenation is \",n3.getNum())\n",
    "n3 = n1.min1(n2)\n",
    "print(\"Min  is \",n3.getNum())\n",
    "n3 = n1.max1(n2)\n",
    "print(\"Max is \",n3.getNum())"
   ]
  },
  {
   "cell_type": "code",
   "execution_count": null,
   "metadata": {},
   "outputs": [
    {
     "name": "stdout",
     "output_type": "stream",
     "text": [
      "Enter id: 222211\n"
     ]
    }
   ],
   "source": [
    "Mydict = {\"Enrollment Id\": [12345, 45667, 16789, 69433],\n",
    "        \"Student Name\": [\"Diksha\", \"Jiva\", \"Ronit\", \"Heena\"],\n",
    "        \"Email Id\": [\"Diksha@nuv.ac.in\", \"Jiva@nuv.ac.in\", \"Ronit@nuv.ac.in\", \"Heena@nuv.ac.in\"]}\n",
    "\n",
    "value = int(input(\"Enter id: \"))\n",
    "for i in range(len(Mydict[\"Enrollment Id\"])):\n",
    "    if Mydict[\"Enrollment Id\"][i] == value:\n",
    "        print(\"Enrollment Id:\", Mydict[\"Enrollment Id\"][i])\n",
    "        print(\"Student Name:\", Mydict[\"Student Name\"][i])\n",
    "        print(\"Email Id:\", Mydict[\"Email Id\"][i])\n",
    "\n",
    "value = input(\"Enter name: \")\n",
    "for j in range(len(Mydict[\"Student Name\"])):\n",
    "    if Mydict[\"Student Name\"][j] == value:\n",
    "        print(\"Enrollment Id:\", Mydict[\"Enrollment Id\"][j])\n",
    "        print(\"Student Name:\", Mydict[\"Student Name\"][j])\n",
    "        print(\"Email Id:\", Mydict[\"Email Id\"][j])\n",
    "\n",
    "value = input(\"Enter email: \")\n",
    "for k in range(len(Mydict[\"Email Id\"])):\n",
    "    if Mydict[\"Email Id\"][k] == value:\n",
    "        print(\"Enrollment Id:\", Mydict[\"Enrollment Id\"][k])\n",
    "        print(\"Student Name:\", Mydict[\"Student Name\"][k])\n",
    "        print(\"Email Id:\", Mydict[\"Email Id\"][k])\n",
    "\n"
   ]
  },
  {
   "cell_type": "code",
   "execution_count": null,
   "metadata": {},
   "outputs": [],
   "source": [
    "data = [\n",
    "    (12345, \"Diksha\", \"Diksha@nuv.ac.in\"),\n",
    "    (45667, \"Jiva\", \"Jiva@nuv.ac.in\"),\n",
    "    (16789, \"Ronit\", \"Ronit@nuv.ac.in\"),\n",
    "    (69433, \"Heena\", \"Heena@nuv.ac.in\")\n",
    "]\n",
    "def searchById(sid):\n",
    "    for i in data:\n",
    "        if i[0] == sid:\n",
    "            print(i)\n",
    "\n",
    "def searchByName(sname):\n",
    "    for j in data:\n",
    "        if j[1] == sname:\n",
    "            print(j)\n",
    "\n",
    "def searchByEmail(semail):\n",
    "    for z in data:\n",
    "        if z[2] == semail:\n",
    "            print(z)\n",
    "\n",
    "sid = int(input(\"Enter id: \"))\n",
    "sname = input(\"Enter name: \")\n",
    "semail = input(\"Enter email: \")\n",
    "\n",
    "searchById(sid)\n",
    "searchByName(sname)\n",
    "searchByEmail(semail)"
   ]
  },
  {
   "cell_type": "code",
   "execution_count": null,
   "metadata": {},
   "outputs": [],
   "source": [
    "Mydict = {\"Enrollment Id\": [12345, 45667, 16789, 69433],\n",
    "        \"Student Name\": [\"Diksha\", \"Jiva\", \"Ronit\", \"Heena\"],\n",
    "        \"Email Id\": [\"Diksha@nuv.ac.in\", \"Jiva@nuv.ac.in\", \"Ronit@nuv.ac.in\", \"Heena@nuv.ac.in\"]}\n",
    "\n"
   ]
  },
  {
   "cell_type": "code",
   "execution_count": null,
   "metadata": {},
   "outputs": [],
   "source": [
    "Data = [\n",
    "    (12345, \"Diksha\" , \"Diksha@nuv.ac.in\" ),\n",
    "    (45667,\"Jiva\", \"Jiva@nuv.ac.in\"),\n",
    "    (16789,\"Ronit\",\"Ronit@nuv.ac.in\" ),\n",
    "    (69433,\"Heena\" , \"Heena@nuv.ac.in\")\n",
    "]\n",
    "\n",
    "mydict = {\"Enroll\" :[] , \"Student Name\" : [] , \"Email\" :[]}\n",
    "\n",
    "for d in Data :\n",
    "    mydict[\"Enroll\"].append(d[0])\n",
    "    mydict[\"Student Name\"].append(d[1])\n",
    "    mydict[\"Email\"].append(d[2])\n",
    "\n",
    "mydict"
   ]
  },
  {
   "cell_type": "code",
   "execution_count": null,
   "metadata": {},
   "outputs": [],
   "source": [
    "mydict[\"Enroll\"]=[d[0] for d in Data]\n",
    "mydict[\"Student Name\"]=[d[1] for d in Data]\n",
    "mydict[\"Email\"]=[d[2] for d in Data]\n",
    "mydict\n",
    "\n"
   ]
  },
  {
   "cell_type": "code",
   "execution_count": null,
   "metadata": {},
   "outputs": [],
   "source": [
    "Personal = {\"Name\" : [\"Husain Ali\"] , \"Id\" :[22000234] , \"College\" : [\"Navrachna University\"] }\n",
    "import json \n",
    "file = open(\"Filedata.json\" , \"w\")\n",
    "jsondata = json.dumps(Personal)\n",
    "file.write(jsondata)"
   ]
  },
  {
   "cell_type": "code",
   "execution_count": null,
   "metadata": {},
   "outputs": [],
   "source": [
    "filer = open(\"Filedata.json\" , \"r\")\n",
    "dataread= json.load(filer)\n",
    "\n",
    "dataread\n"
   ]
  },
  {
   "cell_type": "code",
   "execution_count": null,
   "metadata": {},
   "outputs": [],
   "source": [
    "import csv \n",
    "\n",
    "with open(\"12001.csv\", \"r\") as filecr:\n",
    "    filecrd = csv.reader(filecr)\n",
    "    for row in filecrd:\n",
    "        print(row)\n",
    "\n",
    "filecrd\n"
   ]
  },
  {
   "cell_type": "markdown",
   "metadata": {},
   "source": [
    "Unit - 2"
   ]
  },
  {
   "cell_type": "code",
   "execution_count": null,
   "metadata": {},
   "outputs": [],
   "source": [
    "#Numpy "
   ]
  },
  {
   "cell_type": "code",
   "execution_count": 1,
   "metadata": {},
   "outputs": [],
   "source": [
    "import numpy as np"
   ]
  },
  {
   "cell_type": "code",
   "execution_count": 2,
   "metadata": {},
   "outputs": [
    {
     "data": {
      "text/plain": [
       "array([0., 0., 0., 0., 0., 0., 0., 0., 0., 0.])"
      ]
     },
     "execution_count": 2,
     "metadata": {},
     "output_type": "execute_result"
    }
   ],
   "source": [
    "np.zeros(10)\n"
   ]
  },
  {
   "cell_type": "code",
   "execution_count": 3,
   "metadata": {},
   "outputs": [
    {
     "data": {
      "text/plain": [
       "array([1., 1., 1., 1., 1., 1., 1., 1., 1., 1.])"
      ]
     },
     "execution_count": 3,
     "metadata": {},
     "output_type": "execute_result"
    }
   ],
   "source": [
    "np.ones(10)"
   ]
  },
  {
   "cell_type": "code",
   "execution_count": 4,
   "metadata": {},
   "outputs": [
    {
     "data": {
      "text/plain": [
       "array([5., 5., 5., 5., 5., 5., 5., 5., 5., 5.])"
      ]
     },
     "execution_count": 4,
     "metadata": {},
     "output_type": "execute_result"
    }
   ],
   "source": [
    "np.ones(10) *5"
   ]
  },
  {
   "cell_type": "code",
   "execution_count": 5,
   "metadata": {},
   "outputs": [
    {
     "data": {
      "text/plain": [
       "array([10, 11, 12, 13, 14, 15, 16, 17, 18, 19, 20, 21, 22, 23, 24, 25, 26,\n",
       "       27, 28, 29, 30, 31, 32, 33, 34, 35, 36, 37, 38, 39, 40, 41, 42, 43,\n",
       "       44, 45, 46, 47, 48, 49, 50])"
      ]
     },
     "execution_count": 5,
     "metadata": {},
     "output_type": "execute_result"
    }
   ],
   "source": [
    "np.arange(10,51)"
   ]
  },
  {
   "cell_type": "code",
   "execution_count": 6,
   "metadata": {},
   "outputs": [
    {
     "data": {
      "text/plain": [
       "array([10, 12, 14, 16, 18, 20, 22, 24, 26, 28, 30, 32, 34, 36, 38, 40, 42,\n",
       "       44, 46, 48, 50])"
      ]
     },
     "execution_count": 6,
     "metadata": {},
     "output_type": "execute_result"
    }
   ],
   "source": [
    "np.arange(10,51,2)"
   ]
  },
  {
   "cell_type": "code",
   "execution_count": 7,
   "metadata": {},
   "outputs": [
    {
     "data": {
      "text/plain": [
       "array([[0, 1, 2],\n",
       "       [3, 4, 5],\n",
       "       [6, 7, 8]])"
      ]
     },
     "execution_count": 7,
     "metadata": {},
     "output_type": "execute_result"
    }
   ],
   "source": [
    "np.arange(0,9).reshape(3,3)"
   ]
  },
  {
   "cell_type": "code",
   "execution_count": 8,
   "metadata": {},
   "outputs": [
    {
     "data": {
      "text/plain": [
       "array([[1., 0., 0.],\n",
       "       [0., 1., 0.],\n",
       "       [0., 0., 1.]])"
      ]
     },
     "execution_count": 8,
     "metadata": {},
     "output_type": "execute_result"
    }
   ],
   "source": [
    "np.eye(3)"
   ]
  },
  {
   "cell_type": "code",
   "execution_count": 9,
   "metadata": {},
   "outputs": [
    {
     "data": {
      "text/plain": [
       "array([0.4438903])"
      ]
     },
     "execution_count": 9,
     "metadata": {},
     "output_type": "execute_result"
    }
   ],
   "source": [
    "np.random.rand(1)"
   ]
  },
  {
   "cell_type": "code",
   "execution_count": 10,
   "metadata": {},
   "outputs": [
    {
     "data": {
      "text/plain": [
       "array([0.99039379, 0.21147782, 0.37452828, 0.36864606, 0.49594349,\n",
       "       0.01896381, 0.10008566, 0.19695419, 0.65297708, 0.35028445,\n",
       "       0.03489679, 0.4971192 , 0.00899112, 0.47633518, 0.95906948,\n",
       "       0.53472134, 0.76671211, 0.14917697, 0.30951816, 0.64364599,\n",
       "       0.85456885, 0.64913043, 0.23170476, 0.70566314, 0.63008941])"
      ]
     },
     "execution_count": 10,
     "metadata": {},
     "output_type": "execute_result"
    }
   ],
   "source": [
    "np.random.rand(25)"
   ]
  },
  {
   "cell_type": "code",
   "execution_count": 2,
   "metadata": {},
   "outputs": [
    {
     "data": {
      "text/plain": [
       "array([0.01, 0.02, 0.03, 0.04, 0.05, 0.06, 0.07, 0.08, 0.09, 0.1 , 0.11,\n",
       "       0.12, 0.13, 0.14, 0.15, 0.16, 0.17, 0.18, 0.19, 0.2 , 0.21, 0.22,\n",
       "       0.23, 0.24, 0.25, 0.26, 0.27, 0.28, 0.29, 0.3 , 0.31, 0.32, 0.33,\n",
       "       0.34, 0.35, 0.36, 0.37, 0.38, 0.39, 0.4 , 0.41, 0.42, 0.43, 0.44,\n",
       "       0.45, 0.46, 0.47, 0.48, 0.49, 0.5 , 0.51, 0.52, 0.53, 0.54, 0.55,\n",
       "       0.56, 0.57, 0.58, 0.59, 0.6 , 0.61, 0.62, 0.63, 0.64, 0.65, 0.66,\n",
       "       0.67, 0.68, 0.69, 0.7 , 0.71, 0.72, 0.73, 0.74, 0.75, 0.76, 0.77,\n",
       "       0.78, 0.79, 0.8 , 0.81, 0.82, 0.83, 0.84, 0.85, 0.86, 0.87, 0.88,\n",
       "       0.89, 0.9 , 0.91, 0.92, 0.93, 0.94, 0.95, 0.96, 0.97, 0.98, 0.99,\n",
       "       1.  ])"
      ]
     },
     "execution_count": 2,
     "metadata": {},
     "output_type": "execute_result"
    }
   ],
   "source": [
    "import numpy as np \n",
    "np.linspace(0.01 , 1 , 100)\n"
   ]
  },
  {
   "cell_type": "code",
   "execution_count": 12,
   "metadata": {},
   "outputs": [
    {
     "data": {
      "text/plain": [
       "array([[0.01, 0.02, 0.03, 0.04, 0.05, 0.06, 0.07, 0.08, 0.09, 0.1 ],\n",
       "       [0.11, 0.12, 0.13, 0.14, 0.15, 0.16, 0.17, 0.18, 0.19, 0.2 ],\n",
       "       [0.21, 0.22, 0.23, 0.24, 0.25, 0.26, 0.27, 0.28, 0.29, 0.3 ],\n",
       "       [0.31, 0.32, 0.33, 0.34, 0.35, 0.36, 0.37, 0.38, 0.39, 0.4 ],\n",
       "       [0.41, 0.42, 0.43, 0.44, 0.45, 0.46, 0.47, 0.48, 0.49, 0.5 ],\n",
       "       [0.51, 0.52, 0.53, 0.54, 0.55, 0.56, 0.57, 0.58, 0.59, 0.6 ],\n",
       "       [0.61, 0.62, 0.63, 0.64, 0.65, 0.66, 0.67, 0.68, 0.69, 0.7 ],\n",
       "       [0.71, 0.72, 0.73, 0.74, 0.75, 0.76, 0.77, 0.78, 0.79, 0.8 ],\n",
       "       [0.81, 0.82, 0.83, 0.84, 0.85, 0.86, 0.87, 0.88, 0.89, 0.9 ],\n",
       "       [0.91, 0.92, 0.93, 0.94, 0.95, 0.96, 0.97, 0.98, 0.99, 1.  ]])"
      ]
     },
     "execution_count": 12,
     "metadata": {},
     "output_type": "execute_result"
    }
   ],
   "source": [
    "np.arange(1,101).reshape(10,10)/100"
   ]
  },
  {
   "cell_type": "code",
   "execution_count": 13,
   "metadata": {},
   "outputs": [
    {
     "data": {
      "text/plain": [
       "array([0.        , 0.05263158, 0.10526316, 0.15789474, 0.21052632,\n",
       "       0.26315789, 0.31578947, 0.36842105, 0.42105263, 0.47368421,\n",
       "       0.52631579, 0.57894737, 0.63157895, 0.68421053, 0.73684211,\n",
       "       0.78947368, 0.84210526, 0.89473684, 0.94736842, 1.        ])"
      ]
     },
     "execution_count": 13,
     "metadata": {},
     "output_type": "execute_result"
    }
   ],
   "source": [
    "import numpy as np \n",
    "np.linspace(0,1,20)"
   ]
  },
  {
   "cell_type": "code",
   "execution_count": 14,
   "metadata": {},
   "outputs": [
    {
     "data": {
      "text/plain": [
       "array([[ 1,  2,  3,  4,  5],\n",
       "       [ 6,  7,  8,  9, 10],\n",
       "       [11, 12, 13, 14, 15],\n",
       "       [16, 17, 18, 19, 20],\n",
       "       [21, 22, 23, 24, 25]])"
      ]
     },
     "execution_count": 14,
     "metadata": {},
     "output_type": "execute_result"
    }
   ],
   "source": [
    "mat = np.arange(1,26)\n",
    "mat = mat.reshape(5,5)\n",
    "mat"
   ]
  },
  {
   "cell_type": "code",
   "execution_count": 15,
   "metadata": {},
   "outputs": [
    {
     "data": {
      "text/plain": [
       "array([[12, 13, 14, 15],\n",
       "       [17, 18, 19, 20],\n",
       "       [22, 23, 24, 25]])"
      ]
     },
     "execution_count": 15,
     "metadata": {},
     "output_type": "execute_result"
    }
   ],
   "source": [
    "mat[2:5,1:5]"
   ]
  },
  {
   "cell_type": "code",
   "execution_count": 16,
   "metadata": {},
   "outputs": [
    {
     "data": {
      "text/plain": [
       "20"
      ]
     },
     "execution_count": 16,
     "metadata": {},
     "output_type": "execute_result"
    }
   ],
   "source": [
    "mat[3,4]"
   ]
  },
  {
   "cell_type": "code",
   "execution_count": 17,
   "metadata": {},
   "outputs": [
    {
     "data": {
      "text/plain": [
       "array([[ 2],\n",
       "       [ 7],\n",
       "       [12]])"
      ]
     },
     "execution_count": 17,
     "metadata": {},
     "output_type": "execute_result"
    }
   ],
   "source": [
    "mat[0:3 , 1].reshape(3,1)"
   ]
  },
  {
   "cell_type": "code",
   "execution_count": 18,
   "metadata": {},
   "outputs": [
    {
     "data": {
      "text/plain": [
       "array([[21, 22, 23, 24, 25]])"
      ]
     },
     "execution_count": 18,
     "metadata": {},
     "output_type": "execute_result"
    }
   ],
   "source": [
    "mat[4:5]"
   ]
  },
  {
   "cell_type": "code",
   "execution_count": 19,
   "metadata": {},
   "outputs": [
    {
     "data": {
      "text/plain": [
       "array([[16, 17, 18, 19, 20],\n",
       "       [21, 22, 23, 24, 25]])"
      ]
     },
     "execution_count": 19,
     "metadata": {},
     "output_type": "execute_result"
    }
   ],
   "source": [
    "mat[3:5 , 0:5]"
   ]
  },
  {
   "cell_type": "code",
   "execution_count": 20,
   "metadata": {
    "scrolled": true
   },
   "outputs": [
    {
     "data": {
      "text/plain": [
       "325"
      ]
     },
     "execution_count": 20,
     "metadata": {},
     "output_type": "execute_result"
    }
   ],
   "source": [
    "np.sum(mat)"
   ]
  },
  {
   "cell_type": "code",
   "execution_count": 21,
   "metadata": {},
   "outputs": [
    {
     "data": {
      "text/plain": [
       "7.211102550927978"
      ]
     },
     "execution_count": 21,
     "metadata": {},
     "output_type": "execute_result"
    }
   ],
   "source": [
    "np.std(mat)"
   ]
  },
  {
   "cell_type": "code",
   "execution_count": null,
   "metadata": {},
   "outputs": [],
   "source": []
  },
  {
   "cell_type": "code",
   "execution_count": 22,
   "metadata": {},
   "outputs": [
    {
     "data": {
      "text/plain": [
       "array([ 15,  40,  65,  90, 115])"
      ]
     },
     "execution_count": 22,
     "metadata": {},
     "output_type": "execute_result"
    }
   ],
   "source": [
    "np.sum(mat,axis = 1)"
   ]
  },
  {
   "cell_type": "code",
   "execution_count": 23,
   "metadata": {},
   "outputs": [
    {
     "data": {
      "text/plain": [
       "array([ 0,  1,  2,  3,  4,  5,  6,  7,  8,  9, 10, 11])"
      ]
     },
     "execution_count": 23,
     "metadata": {},
     "output_type": "execute_result"
    }
   ],
   "source": [
    "oned = np.arange(0,12)\n",
    "oned"
   ]
  },
  {
   "cell_type": "code",
   "execution_count": 24,
   "metadata": {},
   "outputs": [
    {
     "data": {
      "text/plain": [
       "array([[ 0,  1,  2,  3],\n",
       "       [ 4,  5,  6,  7],\n",
       "       [ 8,  9, 10, 11]])"
      ]
     },
     "execution_count": 24,
     "metadata": {},
     "output_type": "execute_result"
    }
   ],
   "source": [
    "twod = np.arange(0,12).reshape(3,4)\n",
    "twod"
   ]
  },
  {
   "cell_type": "code",
   "execution_count": 25,
   "metadata": {},
   "outputs": [
    {
     "data": {
      "text/plain": [
       "array([[[ 0,  1],\n",
       "        [ 2,  3]],\n",
       "\n",
       "       [[ 4,  5],\n",
       "        [ 6,  7]],\n",
       "\n",
       "       [[ 8,  9],\n",
       "        [10, 11]]])"
      ]
     },
     "execution_count": 25,
     "metadata": {},
     "output_type": "execute_result"
    }
   ],
   "source": [
    "threed = np.arange(0,12).reshape(3,2,2)\n",
    "threed"
   ]
  },
  {
   "cell_type": "code",
   "execution_count": 26,
   "metadata": {},
   "outputs": [
    {
     "data": {
      "text/plain": [
       "array([[[ 0,  1],\n",
       "        [ 2,  3]],\n",
       "\n",
       "       [[ 4,  5],\n",
       "        [ 6,  7]],\n",
       "\n",
       "       [[ 8,  9],\n",
       "        [10, 11]]])"
      ]
     },
     "execution_count": 26,
     "metadata": {},
     "output_type": "execute_result"
    }
   ],
   "source": [
    "threed = np.arange(0,12).reshape(3,2,2)\n",
    "threed"
   ]
  },
  {
   "cell_type": "code",
   "execution_count": 27,
   "metadata": {},
   "outputs": [
    {
     "data": {
      "text/plain": [
       "array([[[ 0,  1],\n",
       "        [ 2,  3]],\n",
       "\n",
       "       [[ 4,  5],\n",
       "        [ 6,  7]],\n",
       "\n",
       "       [[ 8,  9],\n",
       "        [10, 11]]])"
      ]
     },
     "execution_count": 27,
     "metadata": {},
     "output_type": "execute_result"
    }
   ],
   "source": [
    "threed = np.arange(0,12).reshape(3,2,2)\n",
    "threed"
   ]
  },
  {
   "cell_type": "code",
   "execution_count": 28,
   "metadata": {},
   "outputs": [
    {
     "name": "stdout",
     "output_type": "stream",
     "text": [
      "int64 int64 int64\n"
     ]
    }
   ],
   "source": [
    "three = threed.dtype\n",
    "one = oned.dtype\n",
    "two = twod.dtype\n",
    "print(three,one,two)"
   ]
  },
  {
   "cell_type": "code",
   "execution_count": 29,
   "metadata": {},
   "outputs": [
    {
     "name": "stdout",
     "output_type": "stream",
     "text": [
      "(12,) (3, 4) (3, 2, 2)\n"
     ]
    }
   ],
   "source": [
    "ones = oned.shape\n",
    "twos = twod.shape\n",
    "threes = threed.shape\n",
    "print(ones , twos , threes )"
   ]
  },
  {
   "cell_type": "code",
   "execution_count": 30,
   "metadata": {},
   "outputs": [
    {
     "name": "stdout",
     "output_type": "stream",
     "text": [
      "1 2 3\n"
     ]
    }
   ],
   "source": [
    "ones = oned.ndim\n",
    "twos = twod.ndim\n",
    "threes = threed.ndim\n",
    "print(ones , twos , threes )"
   ]
  },
  {
   "cell_type": "code",
   "execution_count": 31,
   "metadata": {},
   "outputs": [
    {
     "data": {
      "text/plain": [
       "array([1., 1., 1.])"
      ]
     },
     "execution_count": 31,
     "metadata": {},
     "output_type": "execute_result"
    }
   ],
   "source": [
    "np.empty((3))"
   ]
  },
  {
   "cell_type": "code",
   "execution_count": 32,
   "metadata": {},
   "outputs": [
    {
     "data": {
      "text/plain": [
       "array([0., 0., 0., 0., 0., 0., 0., 0., 0., 0., 0., 0.])"
      ]
     },
     "execution_count": 32,
     "metadata": {},
     "output_type": "execute_result"
    }
   ],
   "source": [
    "np.zeros(12)\n"
   ]
  },
  {
   "cell_type": "code",
   "execution_count": 33,
   "metadata": {},
   "outputs": [
    {
     "data": {
      "text/plain": [
       "array([[1., 1., 1.],\n",
       "       [1., 1., 1.],\n",
       "       [1., 1., 1.],\n",
       "       [1., 1., 1.]])"
      ]
     },
     "execution_count": 33,
     "metadata": {},
     "output_type": "execute_result"
    }
   ],
   "source": [
    "np.ones(12).reshape(4,3)"
   ]
  },
  {
   "cell_type": "code",
   "execution_count": 34,
   "metadata": {},
   "outputs": [
    {
     "data": {
      "text/plain": [
       "array([39, 10, 59, 22, 40, 38, 48, 57, 62, 29, 19, 99,  4, 22, 87, 98, 95,\n",
       "       18, 81, 53])"
      ]
     },
     "execution_count": 34,
     "metadata": {},
     "output_type": "execute_result"
    }
   ],
   "source": [
    "Marks = np.random.randint(0,100,20)\n",
    "Marks"
   ]
  },
  {
   "cell_type": "code",
   "execution_count": 35,
   "metadata": {},
   "outputs": [
    {
     "data": {
      "text/plain": [
       "array([ 4, 10, 18, 19, 22, 22, 29, 38, 39, 40, 48, 53, 57, 59, 62, 81, 87,\n",
       "       95, 98, 99])"
      ]
     },
     "execution_count": 35,
     "metadata": {},
     "output_type": "execute_result"
    }
   ],
   "source": [
    "ascend = np.sort(Marks)\n",
    "ascend"
   ]
  },
  {
   "cell_type": "code",
   "execution_count": null,
   "metadata": {},
   "outputs": [],
   "source": []
  },
  {
   "cell_type": "code",
   "execution_count": 36,
   "metadata": {},
   "outputs": [
    {
     "data": {
      "text/plain": [
       "array([99, 98, 95, 87, 81, 62, 59, 57, 53, 48, 40, 39, 38, 29, 22, 22, 19,\n",
       "       18, 10,  4])"
      ]
     },
     "execution_count": 36,
     "metadata": {},
     "output_type": "execute_result"
    }
   ],
   "source": [
    "reverse = ascend[::-1]\n",
    "reverse"
   ]
  },
  {
   "cell_type": "code",
   "execution_count": 37,
   "metadata": {},
   "outputs": [
    {
     "data": {
      "text/plain": [
       "array([99, 98, 95, 87, 81, 62, 59, 57, 53, 48, 40, 39, 38, 29, 22, 22, 19,\n",
       "       18, 10,  4])"
      ]
     },
     "execution_count": 37,
     "metadata": {},
     "output_type": "execute_result"
    }
   ],
   "source": [
    "np.flip(ascend)"
   ]
  },
  {
   "cell_type": "code",
   "execution_count": 38,
   "metadata": {},
   "outputs": [
    {
     "data": {
      "text/plain": [
       "array([99, 98, 95, 87, 81, 62, 59, 57, 53, 48, 40, 39, 38, 29, 22, 22, 19,\n",
       "       18, 10,  4])"
      ]
     },
     "execution_count": 38,
     "metadata": {},
     "output_type": "execute_result"
    }
   ],
   "source": [
    "Deep = reverse.copy()\n",
    "Deep"
   ]
  },
  {
   "cell_type": "code",
   "execution_count": 39,
   "metadata": {},
   "outputs": [
    {
     "data": {
      "text/plain": [
       "array([[1., 0., 0., 0., 0.],\n",
       "       [0., 1., 0., 0., 0.],\n",
       "       [0., 0., 1., 0., 0.],\n",
       "       [0., 0., 0., 1., 0.],\n",
       "       [0., 0., 0., 0., 1.]])"
      ]
     },
     "execution_count": 39,
     "metadata": {},
     "output_type": "execute_result"
    }
   ],
   "source": [
    "iden = np.eye(5)\n",
    "iden"
   ]
  },
  {
   "cell_type": "code",
   "execution_count": 40,
   "metadata": {},
   "outputs": [
    {
     "data": {
      "text/plain": [
       "array([1., 0., 0., 0., 0., 0., 1., 0., 0., 0., 0., 0., 1., 0., 0., 0., 0.,\n",
       "       0., 1., 0., 0., 0., 0., 0., 1.])"
      ]
     },
     "execution_count": 40,
     "metadata": {},
     "output_type": "execute_result"
    }
   ],
   "source": [
    "iden.reshape(25)"
   ]
  },
  {
   "cell_type": "code",
   "execution_count": 41,
   "metadata": {},
   "outputs": [
    {
     "data": {
      "text/plain": [
       "array([[0, 1, 2],\n",
       "       [3, 4, 5],\n",
       "       [6, 7, 8]])"
      ]
     },
     "execution_count": 41,
     "metadata": {},
     "output_type": "execute_result"
    }
   ],
   "source": [
    "threel = np.arange(0,9).reshape(3,3)\n",
    "threel"
   ]
  },
  {
   "cell_type": "code",
   "execution_count": 4,
   "metadata": {},
   "outputs": [],
   "source": [
    "import numpy as np\n",
    "\n"
   ]
  },
  {
   "cell_type": "code",
   "execution_count": 45,
   "metadata": {},
   "outputs": [
    {
     "data": {
      "text/plain": [
       "array([[ 0,  1,  2, 11],\n",
       "       [ 3,  4,  5, 13],\n",
       "       [ 6,  7,  8, 14]])"
      ]
     },
     "execution_count": 45,
     "metadata": {},
     "output_type": "execute_result"
    }
   ],
   "source": [
    "np.hstack((threel,[[11],[13],[14]]))"
   ]
  },
  {
   "cell_type": "code",
   "execution_count": 48,
   "metadata": {},
   "outputs": [
    {
     "data": {
      "text/plain": [
       "[array([[0],\n",
       "        [3],\n",
       "        [6]]),\n",
       " array([[1],\n",
       "        [4],\n",
       "        [7]]),\n",
       " array([[2],\n",
       "        [5],\n",
       "        [8]])]"
      ]
     },
     "execution_count": 48,
     "metadata": {},
     "output_type": "execute_result"
    }
   ],
   "source": [
    "np.hsplit(threel,3)"
   ]
  },
  {
   "cell_type": "code",
   "execution_count": 54,
   "metadata": {},
   "outputs": [
    {
     "data": {
      "text/plain": [
       "[array([[0, 1, 2]]), array([[3, 4, 5]]), array([[6, 7, 8]])]"
      ]
     },
     "execution_count": 54,
     "metadata": {},
     "output_type": "execute_result"
    }
   ],
   "source": [
    "np.vsplit(threel,3)"
   ]
  },
  {
   "cell_type": "markdown",
   "metadata": {},
   "source": []
  },
  {
   "cell_type": "code",
   "execution_count": 57,
   "metadata": {},
   "outputs": [
    {
     "data": {
      "text/plain": [
       "array([[5., 4., 4.],\n",
       "       [4., 5., 4.],\n",
       "       [4., 4., 5.]])"
      ]
     },
     "execution_count": 57,
     "metadata": {},
     "output_type": "execute_result"
    }
   ],
   "source": [
    "np.eye(3)+4"
   ]
  },
  {
   "cell_type": "code",
   "execution_count": 70,
   "metadata": {},
   "outputs": [
    {
     "data": {
      "text/plain": [
       "array([53.05701378, 19.87327099, 10.98039014, 27.75140511, 22.17091577,\n",
       "       52.75469536, 23.26828764, 40.70098567, 47.15094023, 58.06707638])"
      ]
     },
     "execution_count": 70,
     "metadata": {},
     "output_type": "execute_result"
    }
   ],
   "source": [
    "floats = np.random.uniform(10,60,10)\n",
    "floats"
   ]
  },
  {
   "cell_type": "code",
   "execution_count": 69,
   "metadata": {},
   "outputs": [
    {
     "data": {
      "text/plain": [
       "array([43., 19., 54., 49., 28., 38., 59., 21., 46., 50.])"
      ]
     },
     "execution_count": 69,
     "metadata": {},
     "output_type": "execute_result"
    }
   ],
   "source": [
    "np.floor(floats)\n"
   ]
  },
  {
   "cell_type": "code",
   "execution_count": null,
   "metadata": {},
   "outputs": [],
   "source": []
  },
  {
   "cell_type": "code",
   "execution_count": 73,
   "metadata": {},
   "outputs": [
    {
     "data": {
      "text/plain": [
       "array([54., 20., 11., 28., 23., 53., 24., 41., 48., 59.])"
      ]
     },
     "execution_count": 73,
     "metadata": {},
     "output_type": "execute_result"
    }
   ],
   "source": [
    "np.ceil(floats)\n"
   ]
  },
  {
   "cell_type": "code",
   "execution_count": 78,
   "metadata": {},
   "outputs": [
    {
     "data": {
      "text/plain": [
       "array([53.06, 19.87, 10.98, 27.75, 22.17, 52.75, 23.27, 40.7 , 47.15,\n",
       "       58.07])"
      ]
     },
     "execution_count": 78,
     "metadata": {},
     "output_type": "execute_result"
    }
   ],
   "source": [
    "np.round(floats,decimals=2)\n"
   ]
  },
  {
   "cell_type": "code",
   "execution_count": 84,
   "metadata": {},
   "outputs": [
    {
     "data": {
      "text/plain": [
       "array([[ 1,  2,  3,  4,  5],\n",
       "       [ 6,  7,  8,  9, 10],\n",
       "       [11, 12, 13, 14, 15],\n",
       "       [16, 17, 18, 19, 20],\n",
       "       [21, 22, 23, 24, 25]])"
      ]
     },
     "execution_count": 84,
     "metadata": {},
     "output_type": "execute_result"
    }
   ],
   "source": [
    "five5 = np.arange(1,26).reshape(5,5)\n",
    "five5"
   ]
  },
  {
   "cell_type": "code",
   "execution_count": 86,
   "metadata": {},
   "outputs": [
    {
     "data": {
      "text/plain": [
       "array([1, 2, 3, 4, 5])"
      ]
     },
     "execution_count": 86,
     "metadata": {},
     "output_type": "execute_result"
    }
   ],
   "source": [
    "five5.min(axis=0)"
   ]
  },
  {
   "cell_type": "code",
   "execution_count": 87,
   "metadata": {},
   "outputs": [
    {
     "data": {
      "text/plain": [
       "array([21, 22, 23, 24, 25])"
      ]
     },
     "execution_count": 87,
     "metadata": {},
     "output_type": "execute_result"
    }
   ],
   "source": [
    "five5.max(axis=0)"
   ]
  },
  {
   "cell_type": "code",
   "execution_count": 91,
   "metadata": {},
   "outputs": [
    {
     "data": {
      "text/plain": [
       "array([50., 50., 50., 50., 50.])"
      ]
     },
     "execution_count": 91,
     "metadata": {},
     "output_type": "execute_result"
    }
   ],
   "source": [
    "np.var(five5 , axis=0)"
   ]
  },
  {
   "cell_type": "code",
   "execution_count": 92,
   "metadata": {},
   "outputs": [
    {
     "data": {
      "text/plain": [
       "array([7.07106781, 7.07106781, 7.07106781, 7.07106781, 7.07106781])"
      ]
     },
     "execution_count": 92,
     "metadata": {},
     "output_type": "execute_result"
    }
   ],
   "source": [
    "np.std(five5,axis=0)"
   ]
  },
  {
   "cell_type": "code",
   "execution_count": 101,
   "metadata": {},
   "outputs": [
    {
     "data": {
      "text/plain": [
       "array(['NaN', 'NaN', 'NaN', 'NaN', 'NaN', 'NaN', 'NaN', 'NaN', 'NaN',\n",
       "       'NaN'], dtype='<U3')"
      ]
     },
     "execution_count": 101,
     "metadata": {},
     "output_type": "execute_result"
    }
   ],
   "source": [
    "FullFill = np.full((10),'NaN')\n",
    "FullFill"
   ]
  },
  {
   "cell_type": "code",
   "execution_count": 104,
   "metadata": {},
   "outputs": [
    {
     "data": {
      "text/plain": [
       "array(['NaN', 'NaN', 'NaN', 'NaN', 'NaN', 'NaN', '200', 'NaN', 'NaN',\n",
       "       'NaN'], dtype='<U3')"
      ]
     },
     "execution_count": 104,
     "metadata": {},
     "output_type": "execute_result"
    }
   ],
   "source": [
    "FullFill[6] =200\n",
    "FullFill"
   ]
  },
  {
   "cell_type": "code",
   "execution_count": 2,
   "metadata": {},
   "outputs": [
    {
     "data": {
      "text/plain": [
       "(array([0, 2, 5, 7]),)"
      ]
     },
     "execution_count": 2,
     "metadata": {},
     "output_type": "execute_result"
    }
   ],
   "source": [
    "import numpy as np\n",
    "np.nonzero([1,0,2,0,0,4,0,8])"
   ]
  },
  {
   "cell_type": "code",
   "execution_count": 24,
   "metadata": {},
   "outputs": [
    {
     "data": {
      "text/plain": [
       "array([[1., 1., 1., 1., 1., 1., 1., 1., 1., 1.],\n",
       "       [1., 0., 0., 0., 0., 0., 0., 0., 0., 1.],\n",
       "       [1., 0., 0., 0., 0., 0., 0., 0., 0., 1.],\n",
       "       [1., 0., 0., 0., 0., 0., 0., 0., 0., 1.],\n",
       "       [1., 0., 0., 0., 0., 0., 0., 0., 0., 1.],\n",
       "       [1., 0., 0., 0., 0., 0., 0., 0., 0., 1.],\n",
       "       [1., 0., 0., 0., 0., 0., 0., 0., 0., 1.],\n",
       "       [1., 0., 0., 0., 0., 0., 0., 0., 0., 1.],\n",
       "       [1., 0., 0., 0., 0., 0., 0., 0., 0., 1.],\n",
       "       [1., 1., 1., 1., 1., 1., 1., 1., 1., 1.]])"
      ]
     },
     "execution_count": 24,
     "metadata": {},
     "output_type": "execute_result"
    }
   ],
   "source": [
    "one = np.ones((10,10))\n",
    "one[1:9 , 1:9] = 0\n",
    "one"
   ]
  },
  {
   "cell_type": "code",
   "execution_count": 25,
   "metadata": {},
   "outputs": [
    {
     "data": {
      "text/plain": [
       "array([[1.5, 1.5, 1.5, 1.5, 1.5],\n",
       "       [1.5, 0.5, 0.5, 0.5, 1.5],\n",
       "       [1.5, 0.5, 0.5, 0.5, 1.5],\n",
       "       [1.5, 0.5, 0.5, 0.5, 1.5],\n",
       "       [1.5, 1.5, 1.5, 1.5, 1.5]])"
      ]
     },
     "execution_count": 25,
     "metadata": {},
     "output_type": "execute_result"
    }
   ],
   "source": [
    "point = np.ones((5,5))*1.5 \n",
    "point[1:4 , 1:4]=0.5\n",
    "point"
   ]
  },
  {
   "cell_type": "code",
   "execution_count": null,
   "metadata": {},
   "outputs": [],
   "source": []
  },
  {
   "cell_type": "code",
   "execution_count": 48,
   "metadata": {},
   "outputs": [
    {
     "data": {
      "text/plain": [
       "array([[0., 1., 0., 1., 0., 1., 0., 1.],\n",
       "       [1., 0., 1., 0., 1., 0., 1., 0.],\n",
       "       [0., 1., 0., 1., 0., 1., 0., 1.],\n",
       "       [1., 0., 1., 0., 1., 0., 1., 0.],\n",
       "       [0., 1., 0., 1., 0., 1., 0., 1.],\n",
       "       [1., 0., 1., 0., 1., 0., 1., 0.],\n",
       "       [0., 1., 0., 1., 0., 1., 0., 1.],\n",
       "       [1., 0., 1., 0., 1., 0., 1., 0.]])"
      ]
     },
     "execution_count": 48,
     "metadata": {},
     "output_type": "execute_result"
    }
   ],
   "source": [
    "check = np.ones((8,8))\n",
    "check[::2,::2] = 0\n",
    "check[1::2 , 1::2] = 0\n",
    "check"
   ]
  },
  {
   "cell_type": "code",
   "execution_count": 56,
   "metadata": {},
   "outputs": [
    {
     "name": "stdout",
     "output_type": "stream",
     "text": [
      "[3 0] [1 0] 2\n"
     ]
    }
   ],
   "source": [
    "mat1 = np.random.randint((3,3))\n",
    "mat2= np.random.randint((3,3))\n",
    "\n",
    "add = mat1+mat2\n",
    "Substract = mat1 - mat2\n",
    "multiply = mat1@mat2\n",
    "\n",
    "\n",
    "print(add , Substract , multiply)"
   ]
  },
  {
   "cell_type": "code",
   "execution_count": 10,
   "metadata": {},
   "outputs": [
    {
     "data": {
      "text/plain": [
       "array([[ 2.90519818, 17.71811684,  3.02230432, 18.34297135],\n",
       "       [15.46939429,  2.36340745,  3.21956576, 14.50921793],\n",
       "       [14.41214893,  2.5700953 , 17.69273637,  5.37145255],\n",
       "       [12.20807034, 14.87900231,  8.08946613, 11.58148612]])"
      ]
     },
     "execution_count": 10,
     "metadata": {},
     "output_type": "execute_result"
    }
   ],
   "source": [
    "np.random.uniform(1,20,16).reshape(4,4)"
   ]
  },
  {
   "cell_type": "code",
   "execution_count": 11,
   "metadata": {},
   "outputs": [
    {
     "data": {
      "text/plain": [
       "array([ 0,  1,  2,  3,  4,  5,  6,  7,  8,  9, 10, 11, 12, 13, 14, 15, 16,\n",
       "       17, 18, 19])"
      ]
     },
     "execution_count": 11,
     "metadata": {},
     "output_type": "execute_result"
    }
   ],
   "source": [
    "np.arange(0,26)"
   ]
  },
  {
   "cell_type": "code",
   "execution_count": 13,
   "metadata": {},
   "outputs": [
    {
     "data": {
      "text/plain": [
       "array([ 0.        ,  1.02857143,  2.05714286,  3.08571429,  4.11428571,\n",
       "        5.14285714,  6.17142857,  7.2       ,  8.22857143,  9.25714286,\n",
       "       10.28571429, 11.31428571, 12.34285714, 13.37142857, 14.4       ,\n",
       "       15.42857143, 16.45714286, 17.48571429, 18.51428571, 19.54285714,\n",
       "       20.57142857, 21.6       , 22.62857143, 23.65714286, 24.68571429,\n",
       "       25.71428571, 26.74285714, 27.77142857, 28.8       , 29.82857143,\n",
       "       30.85714286, 31.88571429, 32.91428571, 33.94285714, 34.97142857,\n",
       "       36.        ])"
      ]
     },
     "execution_count": 13,
     "metadata": {},
     "output_type": "execute_result"
    }
   ],
   "source": [
    "np.linspace(0,36,36)"
   ]
  },
  {
   "cell_type": "code",
   "execution_count": 42,
   "metadata": {},
   "outputs": [
    {
     "data": {
      "text/plain": [
       "array([21, 11, 13,  2, 14, 22, 21, 12,  7])"
      ]
     },
     "execution_count": 42,
     "metadata": {},
     "output_type": "execute_result"
    }
   ],
   "source": [
    "mama = np.random.randint(0,25,)\n",
    "mama\n"
   ]
  },
  {
   "cell_type": "code",
   "execution_count": 33,
   "metadata": {},
   "outputs": [
    {
     "data": {
      "text/plain": [
       "array([[ 1,  2,  3,  4,  5],\n",
       "       [ 6,  7,  8,  9, 10],\n",
       "       [11, 12, 13, 14, 15],\n",
       "       [16, 17, 18, 19, 20],\n",
       "       [21, 22, 23, 24, 25]])"
      ]
     },
     "execution_count": 33,
     "metadata": {},
     "output_type": "execute_result"
    }
   ],
   "source": [
    "jja = np.arange(1,26).reshape(5,5)\n",
    "jja"
   ]
  },
  {
   "cell_type": "code",
   "execution_count": 35,
   "metadata": {},
   "outputs": [
    {
     "data": {
      "text/plain": [
       "array([[18, 19, 20],\n",
       "       [23, 24, 25]])"
      ]
     },
     "execution_count": 35,
     "metadata": {},
     "output_type": "execute_result"
    }
   ],
   "source": [
    "jja[3:5 , 2:5 ]"
   ]
  },
  {
   "cell_type": "code",
   "execution_count": 39,
   "metadata": {},
   "outputs": [],
   "source": [
    "np.sum?"
   ]
  },
  {
   "cell_type": "code",
   "execution_count": null,
   "metadata": {},
   "outputs": [],
   "source": []
  },
  {
   "cell_type": "code",
   "execution_count": null,
   "metadata": {},
   "outputs": [],
   "source": []
  },
  {
   "cell_type": "code",
   "execution_count": null,
   "metadata": {},
   "outputs": [],
   "source": []
  },
  {
   "cell_type": "code",
   "execution_count": null,
   "metadata": {},
   "outputs": [],
   "source": []
  },
  {
   "cell_type": "code",
   "execution_count": null,
   "metadata": {},
   "outputs": [],
   "source": []
  },
  {
   "cell_type": "code",
   "execution_count": null,
   "metadata": {},
   "outputs": [],
   "source": []
  },
  {
   "cell_type": "code",
   "execution_count": null,
   "metadata": {},
   "outputs": [],
   "source": []
  },
  {
   "cell_type": "code",
   "execution_count": null,
   "metadata": {},
   "outputs": [],
   "source": []
  },
  {
   "cell_type": "code",
   "execution_count": null,
   "metadata": {},
   "outputs": [],
   "source": []
  },
  {
   "cell_type": "code",
   "execution_count": null,
   "metadata": {},
   "outputs": [],
   "source": []
  },
  {
   "cell_type": "code",
   "execution_count": 51,
   "metadata": {},
   "outputs": [
    {
     "data": {
      "text/plain": [
       "array([[3.14, 3.14, 3.14, 3.14, 3.14, 3.14, 3.14, 3.14, 3.14, 3.14],\n",
       "       [3.14, 0.  , 0.  , 0.  , 0.  , 0.  , 0.  , 0.  , 0.  , 3.14],\n",
       "       [3.14, 0.  , 0.  , 0.  , 0.  , 0.  , 0.  , 0.  , 0.  , 3.14],\n",
       "       [3.14, 0.  , 0.  , 0.  , 0.  , 0.  , 0.  , 0.  , 0.  , 3.14],\n",
       "       [3.14, 0.  , 0.  , 0.  , 0.  , 0.  , 0.  , 0.  , 0.  , 3.14],\n",
       "       [3.14, 0.  , 0.  , 0.  , 0.  , 0.  , 0.  , 0.  , 0.  , 3.14],\n",
       "       [3.14, 0.  , 0.  , 0.  , 0.  , 0.  , 0.  , 0.  , 0.  , 3.14],\n",
       "       [3.14, 0.  , 0.  , 0.  , 0.  , 0.  , 0.  , 0.  , 0.  , 3.14],\n",
       "       [3.14, 0.  , 0.  , 0.  , 0.  , 0.  , 0.  , 0.  , 0.  , 3.14],\n",
       "       [3.14, 3.14, 3.14, 3.14, 3.14, 3.14, 3.14, 3.14, 3.14, 3.14]])"
      ]
     },
     "execution_count": 51,
     "metadata": {},
     "output_type": "execute_result"
    }
   ],
   "source": [
    "py = np.ones((10,10))*3.14\n",
    "py[1:9 , 1:9] = 0\n",
    "py"
   ]
  },
  {
   "cell_type": "code",
   "execution_count": 52,
   "metadata": {},
   "outputs": [
    {
     "data": {
      "text/plain": [
       "array([31.4 ,  6.28,  6.28,  6.28,  6.28,  6.28,  6.28,  6.28,  6.28,\n",
       "       31.4 ])"
      ]
     },
     "execution_count": 52,
     "metadata": {},
     "output_type": "execute_result"
    }
   ],
   "source": [
    "np.sum(py , axis = 0)"
   ]
  },
  {
   "cell_type": "code",
   "execution_count": 60,
   "metadata": {},
   "outputs": [
    {
     "data": {
      "text/plain": [
       "array([[3.14, 3.14, 3.14, 3.14, 3.14, 3.14, 3.14, 3.14, 3.14, 3.14],\n",
       "       [3.14, 0.  , 0.  , 0.  , 0.  , 0.  , 0.  , 0.  , 0.  , 3.14],\n",
       "       [3.14, 0.  , 0.  , 0.  , 0.  , 0.  , 0.  , 0.  , 0.  , 3.14],\n",
       "       [3.14, 0.  , 0.  , 0.  , 0.  , 0.  , 0.  , 0.  , 0.  , 3.14],\n",
       "       [3.14, 0.  , 0.  , 0.  , 0.  , 0.  , 0.  , 0.  , 0.  , 3.14],\n",
       "       [3.14, 0.  , 0.  , 0.  , 0.  , 0.  , 0.  , 0.  , 0.  , 3.14],\n",
       "       [3.14, 0.  , 0.  , 0.  , 0.  , 0.  , 0.  , 0.  , 0.  , 3.14],\n",
       "       [3.14, 0.  , 0.  , 0.  , 0.  , 0.  , 0.  , 0.  , 0.  , 3.14],\n",
       "       [3.14, 0.  , 0.  , 0.  , 0.  , 0.  , 0.  , 0.  , 0.  , 3.14],\n",
       "       [3.14, 3.14, 3.14, 3.14, 3.14, 3.14, 3.14, 3.14, 3.14, 3.14],\n",
       "       [4.  , 4.  , 4.  , 4.  , 4.  , 4.  , 4.  , 4.  , 4.  , 4.  ]])"
      ]
     },
     "execution_count": 60,
     "metadata": {},
     "output_type": "execute_result"
    }
   ],
   "source": [
    "py = np.vstack((py,[4,4,4,4,4,4,4,4,4,4]))\n",
    "py"
   ]
  },
  {
   "cell_type": "code",
   "execution_count": 63,
   "metadata": {},
   "outputs": [
    {
     "data": {
      "text/plain": [
       "[array([[3.14],\n",
       "        [3.14],\n",
       "        [3.14],\n",
       "        [3.14],\n",
       "        [3.14],\n",
       "        [3.14],\n",
       "        [3.14],\n",
       "        [3.14],\n",
       "        [3.14],\n",
       "        [3.14],\n",
       "        [4.  ]]),\n",
       " array([[3.14],\n",
       "        [0.  ],\n",
       "        [0.  ],\n",
       "        [0.  ],\n",
       "        [0.  ],\n",
       "        [0.  ],\n",
       "        [0.  ],\n",
       "        [0.  ],\n",
       "        [0.  ],\n",
       "        [3.14],\n",
       "        [4.  ]]),\n",
       " array([[3.14],\n",
       "        [0.  ],\n",
       "        [0.  ],\n",
       "        [0.  ],\n",
       "        [0.  ],\n",
       "        [0.  ],\n",
       "        [0.  ],\n",
       "        [0.  ],\n",
       "        [0.  ],\n",
       "        [3.14],\n",
       "        [4.  ]]),\n",
       " array([[3.14],\n",
       "        [0.  ],\n",
       "        [0.  ],\n",
       "        [0.  ],\n",
       "        [0.  ],\n",
       "        [0.  ],\n",
       "        [0.  ],\n",
       "        [0.  ],\n",
       "        [0.  ],\n",
       "        [3.14],\n",
       "        [4.  ]]),\n",
       " array([[3.14],\n",
       "        [0.  ],\n",
       "        [0.  ],\n",
       "        [0.  ],\n",
       "        [0.  ],\n",
       "        [0.  ],\n",
       "        [0.  ],\n",
       "        [0.  ],\n",
       "        [0.  ],\n",
       "        [3.14],\n",
       "        [4.  ]]),\n",
       " array([[3.14],\n",
       "        [0.  ],\n",
       "        [0.  ],\n",
       "        [0.  ],\n",
       "        [0.  ],\n",
       "        [0.  ],\n",
       "        [0.  ],\n",
       "        [0.  ],\n",
       "        [0.  ],\n",
       "        [3.14],\n",
       "        [4.  ]]),\n",
       " array([[3.14],\n",
       "        [0.  ],\n",
       "        [0.  ],\n",
       "        [0.  ],\n",
       "        [0.  ],\n",
       "        [0.  ],\n",
       "        [0.  ],\n",
       "        [0.  ],\n",
       "        [0.  ],\n",
       "        [3.14],\n",
       "        [4.  ]]),\n",
       " array([[3.14],\n",
       "        [0.  ],\n",
       "        [0.  ],\n",
       "        [0.  ],\n",
       "        [0.  ],\n",
       "        [0.  ],\n",
       "        [0.  ],\n",
       "        [0.  ],\n",
       "        [0.  ],\n",
       "        [3.14],\n",
       "        [4.  ]]),\n",
       " array([[3.14],\n",
       "        [0.  ],\n",
       "        [0.  ],\n",
       "        [0.  ],\n",
       "        [0.  ],\n",
       "        [0.  ],\n",
       "        [0.  ],\n",
       "        [0.  ],\n",
       "        [0.  ],\n",
       "        [3.14],\n",
       "        [4.  ]]),\n",
       " array([[3.14],\n",
       "        [3.14],\n",
       "        [3.14],\n",
       "        [3.14],\n",
       "        [3.14],\n",
       "        [3.14],\n",
       "        [3.14],\n",
       "        [3.14],\n",
       "        [3.14],\n",
       "        [3.14],\n",
       "        [4.  ]])]"
      ]
     },
     "execution_count": 63,
     "metadata": {},
     "output_type": "execute_result"
    }
   ],
   "source": [
    "np.hsplit(py,10)"
   ]
  },
  {
   "cell_type": "code",
   "execution_count": 2,
   "metadata": {},
   "outputs": [],
   "source": [
    "import numpy as np \n",
    "import pandas as pd "
   ]
  },
  {
   "cell_type": "code",
   "execution_count": 4,
   "metadata": {},
   "outputs": [
    {
     "name": "stdout",
     "output_type": "stream",
     "text": [
      "Python    95\n",
      "DSA       65\n",
      "DBMS      75\n",
      "dtype: int64\n"
     ]
    }
   ],
   "source": [
    "a = [95,65,75]\n",
    "\n",
    "servar = pd.Series(a, index = [\"Python\", \"DSA\", \"DBMS\"])\n",
    "\n",
    "print(servar)"
   ]
  },
  {
   "cell_type": "code",
   "execution_count": null,
   "metadata": {},
   "outputs": [],
   "source": []
  }
 ],
 "metadata": {
  "colab": {
   "provenance": []
  },
  "kernelspec": {
   "display_name": "Python 3 (ipykernel)",
   "language": "python",
   "name": "python3"
  },
  "language_info": {
   "codemirror_mode": {
    "name": "ipython",
    "version": 3
   },
   "file_extension": ".py",
   "mimetype": "text/x-python",
   "name": "python",
   "nbconvert_exporter": "python",
   "pygments_lexer": "ipython3",
   "version": "3.11.5"
  }
 },
 "nbformat": 4,
 "nbformat_minor": 1
}
